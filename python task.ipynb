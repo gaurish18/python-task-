{
 "cells": [
  {
   "cell_type": "code",
   "execution_count": 1,
   "id": "b260a4e0-24ad-4522-b159-322d988670da",
   "metadata": {},
   "outputs": [
    {
     "name": "stdout",
     "output_type": "stream",
     "text": [
      "Product of all numbers in the list: 0\n"
     ]
    }
   ],
   "source": [
    "def flatten_and_product(lst):\n",
    "    def flatten(lst):\n",
    "        flat_list = []\n",
    "        for item in lst:\n",
    "            if isinstance(item, (list, tuple)):\n",
    "                flat_list.extend(flatten(item))\n",
    "            elif isinstance(item, dict):\n",
    "                flat_list.extend(flatten(item.values()))\n",
    "                flat_list.extend(flatten(item.keys()))\n",
    "            else:\n",
    "                if isinstance(item, (int, float)):\n",
    "                    flat_list.append(item)\n",
    "        return flat_list\n",
    "\n",
    "    flat_numbers = flatten(lst)\n",
    "\n",
    "    if not flat_numbers:\n",
    "        return 0  # Return 0 if there are no numbers in the list\n",
    "\n",
    "    product = 1\n",
    "    for num in flat_numbers:\n",
    "        product *= num\n",
    "\n",
    "    return product\n",
    "\n",
    "# Test the function with the provided list\n",
    "list1 = [1, 2, 3, 4, [44, 55, 66, True], False, (34, 56, 78, 89, 34), {1, 2, 3, 3, 2, 1},\n",
    "         {1: 34, \"key2\": [55, 67, 78, 89], 4: (45, 22, 61, 34)}, [56, 'data science'], 'Machine Learning']\n",
    "\n",
    "result = flatten_and_product(list1)\n",
    "print(\"Product of all numbers in the list:\", result)\n"
   ]
  },
  {
   "cell_type": "code",
   "execution_count": null,
   "id": "5762636d-39a9-4b3a-9082-ec582daa5018",
   "metadata": {},
   "outputs": [],
   "source": []
  },
  {
   "cell_type": "code",
   "execution_count": 2,
   "id": "d997370a-13c7-40d7-8035-652ce04e08fb",
   "metadata": {},
   "outputs": [
    {
     "name": "stdout",
     "output_type": "stream",
     "text": [
      "Input Sentence:  I want to become a Data Scientist.\n",
      "Encrypted Sentence:  r$dzmg$gl$yvxlnv$z$wzgz$hxrvmgrhg.\n"
     ]
    }
   ],
   "source": [
    "def encrypt_message(message):\n",
    "    message = message.lower()  # Convert the input message to lowercase\n",
    "    encrypted_message = ''\n",
    "\n",
    "    for char in message:\n",
    "        if char.isalpha():  # Check if the character is an alphabet\n",
    "            encrypted_char = chr(ord('a') + (ord('z') - ord(char)))\n",
    "            encrypted_message += encrypted_char\n",
    "        elif char.isspace():  # Check if the character is a whitespace\n",
    "            encrypted_message += '$'\n",
    "        else:\n",
    "            encrypted_message += char  # Punctuation marks remain unchanged\n",
    "\n",
    "    return encrypted_message\n",
    "\n",
    "# Input sentence\n",
    "input_sentence = \"I want to become a Data Scientist.\"\n",
    "\n",
    "# Encrypt the input sentence\n",
    "encrypted_sentence = encrypt_message(input_sentence)\n",
    "\n",
    "print(\"Input Sentence: \", input_sentence)\n",
    "print(\"Encrypted Sentence: \", encrypted_sentence)\n"
   ]
  },
  {
   "cell_type": "code",
   "execution_count": null,
   "id": "2ca7cfb7-8b1d-4a46-85c9-3b8a5cd65137",
   "metadata": {},
   "outputs": [],
   "source": []
  }
 ],
 "metadata": {
  "kernelspec": {
   "display_name": "Python 3 (ipykernel)",
   "language": "python",
   "name": "python3"
  },
  "language_info": {
   "codemirror_mode": {
    "name": "ipython",
    "version": 3
   },
   "file_extension": ".py",
   "mimetype": "text/x-python",
   "name": "python",
   "nbconvert_exporter": "python",
   "pygments_lexer": "ipython3",
   "version": "3.10.8"
  }
 },
 "nbformat": 4,
 "nbformat_minor": 5
}
